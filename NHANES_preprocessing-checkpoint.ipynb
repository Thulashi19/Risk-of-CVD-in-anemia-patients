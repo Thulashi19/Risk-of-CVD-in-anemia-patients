{
 "cells": [
  {
   "cell_type": "code",
   "execution_count": 15,
   "id": "2844b1ec-f6c5-4c10-8464-08afeaacd2cd",
   "metadata": {},
   "outputs": [
    {
     "name": "stdout",
     "output_type": "stream",
     "text": [
      "Processed data saved to 'processed_nhanes_data.csv'\n"
     ]
    }
   ],
   "source": [
    "import pandas as pd\n",
    "\n",
    "\n",
    "df = pd.read_csv('filtered_nhanes_with_heart_disease.csv')\n",
    "\n",
    "\n",
    "df = df[df['Age'] >= 5]\n",
    "\n",
    "# --- Handle missing values \n",
    "for col in df.columns:\n",
    "    if df[col].dtype in ['float64', 'int64']:\n",
    "        df[col] = df[col].fillna(df[col].median())\n",
    "    else:\n",
    "        df[col] = df[col].fillna(df[col].mode()[0])\n",
    "\n",
    "# --- Create 'bp' column ---\n",
    "df['bp'] = ((df['sbp'] > 130) | (df['dbp'] > 80)).astype(int)\n",
    "\n",
    "# --- Create 'Gender1' column ---\n",
    "df['Gender1'] = df['Gender'].apply(lambda x: 'M' if x == 1 else 'F')\n",
    "\n",
    "# --- Replace all Diabetes and Smoking values of 2 with 0 ---\n",
    "df['Diabetes'] = df['Diabetes'].replace(2, 0)\n",
    "df['Smoking'] = df['Smoking'].replace(2, 0)\n",
    "\n",
    "# --- Create 'high_cholesterol' column ---\n",
    "df['Cholesterol1'] = (df['Cholesterol'] > 240).astype(int)\n",
    "\n",
    "# --- Reorder rows so HeartDisease = 1 comes first ---\n",
    "df = df.sort_values(by='heart_disease', ascending=False).reset_index(drop=True)\n",
    "\n",
    "\n",
    "df.to_csv('processed_nhanes_data.csv', index=False)\n",
    "print(\"Processed data saved to 'processed_nhanes_data.csv'\")\n"
   ]
  },
  {
   "cell_type": "code",
   "execution_count": null,
   "id": "a781e0f5-a7a0-4909-bbc4-3936e579ee52",
   "metadata": {},
   "outputs": [],
   "source": []
  },
  {
   "cell_type": "code",
   "execution_count": null,
   "id": "40a87d81-f6f5-4f10-9748-3212bcbc8e10",
   "metadata": {},
   "outputs": [],
   "source": []
  }
 ],
 "metadata": {
  "kernelspec": {
   "display_name": "Python 3 (ipykernel)",
   "language": "python",
   "name": "python3"
  },
  "language_info": {
   "codemirror_mode": {
    "name": "ipython",
    "version": 3
   },
   "file_extension": ".py",
   "mimetype": "text/x-python",
   "name": "python",
   "nbconvert_exporter": "python",
   "pygments_lexer": "ipython3",
   "version": "3.12.4"
  }
 },
 "nbformat": 4,
 "nbformat_minor": 5
}
