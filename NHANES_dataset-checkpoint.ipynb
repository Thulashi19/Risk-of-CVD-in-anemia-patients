{
 "cells": [
  {
   "cell_type": "code",
   "execution_count": 23,
   "id": "b4edbd11-1d80-4fe9-bb94-d2d21f782139",
   "metadata": {},
   "outputs": [
    {
     "name": "stdout",
     "output_type": "stream",
     "text": [
      "✅ Cleaned dataset with heart disease column saved successfully.\n"
     ]
    }
   ],
   "source": [
    "import pandas as pd\n",
    "\n",
    "\n",
    "demographics = pd.read_csv('demographic.csv')     \n",
    "lab = pd.read_csv('labs.csv')               \n",
    "exam = pd.read_csv('examination.csv')             \n",
    "questionnaire = pd.read_csv('questionnaire.csv')  \n",
    "\n",
    "# Merge all data on SEQN\n",
    "merged = demographics.merge(lab, on='SEQN', how='inner') \\\n",
    "                     .merge(exam, on='SEQN', how='inner') \\\n",
    "                     .merge(questionnaire, on='SEQN', how='inner')\n",
    "\n",
    "\n",
    "merged['heart_disease'] = merged[['MCQ160B', 'MCQ160C', 'MCQ160D', 'MCQ160E']].apply(\n",
    "    lambda row: 1 if 1 in row.values else 0, axis=1\n",
    ")\n",
    "\n",
    "\n",
    "columns_needed = [\n",
    "    'SEQN',        # ID\n",
    "    'RIAGENDR',    # Gender\n",
    "    'RIDAGEYR',    # Age\n",
    "    'LBXHGB',      # Hemoglobin (Hb)\n",
    "    'LBXHCT',      # Hematocrit (HCT)\n",
    "    'LBXMCVSI',    # MCV\n",
    "    'LBXMCHSI',    # MCH\n",
    "    'LBXMC',   # MCHC\n",
    "    'LBXRBCSI',    # RBC\n",
    "    'LBXRDW',         # RDW (adjust column name if different)\n",
    "    'LBXTC',       # Cholesterol\n",
    "    'DIQ010',      # Diabetes\n",
    "    'BPXSY1',      # Systolic BP\n",
    "    'BPXDI1',      # Diastolic BP\n",
    "    'SMQ020',      # Smoked 100 cigarettes\n",
    "    'SMQ040',      # Do you smoke now?\n",
    "    'heart_disease'\n",
    "]\n",
    "\n",
    "# Filter only existing columns\n",
    "existing_cols = [col for col in columns_needed if col in merged.columns]\n",
    "final_df = merged[existing_cols]\n",
    "\n",
    "\n",
    "final_df.to_csv('filtered_nhanes_with_heart_disease.csv', index=False)\n",
    "print(\"✅ Cleaned dataset with heart disease column saved successfully.\")\n"
   ]
  },
  {
   "cell_type": "code",
   "execution_count": null,
   "id": "60ff7a1b-68c3-4e36-8f5b-af9c7bb0d0fc",
   "metadata": {},
   "outputs": [],
   "source": []
  }
 ],
 "metadata": {
  "kernelspec": {
   "display_name": "Python 3 (ipykernel)",
   "language": "python",
   "name": "python3"
  },
  "language_info": {
   "codemirror_mode": {
    "name": "ipython",
    "version": 3
   },
   "file_extension": ".py",
   "mimetype": "text/x-python",
   "name": "python",
   "nbconvert_exporter": "python",
   "pygments_lexer": "ipython3",
   "version": "3.12.4"
  }
 },
 "nbformat": 4,
 "nbformat_minor": 5
}
